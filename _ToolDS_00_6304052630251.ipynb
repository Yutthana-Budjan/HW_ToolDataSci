{
  "nbformat": 4,
  "nbformat_minor": 0,
  "metadata": {
    "colab": {
      "provenance": [],
      "authorship_tag": "ABX9TyNbhQXo2lcx2r8rQxIoxE7N",
      "include_colab_link": true
    },
    "kernelspec": {
      "name": "python3",
      "display_name": "Python 3"
    },
    "language_info": {
      "name": "python"
    }
  },
  "cells": [
    {
      "cell_type": "markdown",
      "metadata": {
        "id": "view-in-github",
        "colab_type": "text"
      },
      "source": [
        "<a href=\"https://colab.research.google.com/github/Yutthana-Budjan/HW_ToolDataSci/blob/main/_ToolDS_00_6304052630251.ipynb\" target=\"_parent\"><img src=\"https://colab.research.google.com/assets/colab-badge.svg\" alt=\"Open In Colab\"/></a>"
      ]
    },
    {
      "cell_type": "code",
      "execution_count": null,
      "metadata": {
        "id": "ONSyzcWiMtT4"
      },
      "outputs": [],
      "source": [
        "import numpy as np\n",
        "from collections import Counter"
      ]
    },
    {
      "cell_type": "markdown",
      "source": [
        "1. Consider a sequence of n Bernoulli trials with success probabilty p per trial. A string of consecutive successes is known as a success run. Write a function that returns the counts for runs of length k for each k observed in a dictionary."
      ],
      "metadata": {
        "id": "xJWtjfljUNla"
      }
    },
    {
      "cell_type": "code",
      "source": [
        "def count_run(xs):\n",
        "  ys = []\n",
        "  count = 0\n",
        "  for x in xs :\n",
        "    if x == 1 :\n",
        "      count += 1\n",
        "    else :\n",
        "      if count: ys.append(count)\n",
        "      count = 0\n",
        "  if count: ys.append(count)\n",
        "  return Counter(ys)"
      ],
      "metadata": {
        "id": "9YBmdb2PN5Kb"
      },
      "execution_count": null,
      "outputs": []
    },
    {
      "cell_type": "code",
      "source": [
        "count_run([0,1,0,1,1,0,0,0,0,1],)"
      ],
      "metadata": {
        "colab": {
          "base_uri": "https://localhost:8080/"
        },
        "id": "DLGNNCakk-Zm",
        "outputId": "dfaf8706-d65c-4c1d-8bea-3129e1f7e269"
      },
      "execution_count": null,
      "outputs": [
        {
          "output_type": "execute_result",
          "data": {
            "text/plain": [
              "Counter({1: 2, 2: 1})"
            ]
          },
          "metadata": {},
          "execution_count": 66
        }
      ]
    },
    {
      "cell_type": "code",
      "source": [
        "count_run(np.random.randint(0,2,1000000))"
      ],
      "metadata": {
        "colab": {
          "base_uri": "https://localhost:8080/"
        },
        "id": "JVh1T1tklUHM",
        "outputId": "33d2bb25-d5cd-40ed-e14a-42b283a68a6b"
      },
      "execution_count": null,
      "outputs": [
        {
          "output_type": "execute_result",
          "data": {
            "text/plain": [
              "Counter({2: 62729,\n",
              "         9: 472,\n",
              "         1: 125159,\n",
              "         4: 15641,\n",
              "         3: 31248,\n",
              "         5: 7799,\n",
              "         6: 3778,\n",
              "         7: 1940,\n",
              "         10: 230,\n",
              "         8: 972,\n",
              "         14: 25,\n",
              "         12: 61,\n",
              "         11: 138,\n",
              "         15: 11,\n",
              "         16: 4,\n",
              "         13: 31,\n",
              "         22: 1,\n",
              "         21: 1,\n",
              "         17: 1})"
            ]
          },
          "metadata": {},
          "execution_count": 74
        }
      ]
    },
    {
      "cell_type": "markdown",
      "source": [
        "2.\tContinuing from Part 1, what is the probability of observing at least one run of length 5 or more when n=100 and p=0.5?. Estimate this from 100,000 simulated experiments. Is this more, less or equally likely than finding runs of length 7 or more when p=0.7"
      ],
      "metadata": {
        "id": "N3R8TKoGUpH9"
      }
    },
    {
      "cell_type": "code",
      "source": [
        "def run_prob(expts, n, k, p):\n",
        "  xxs = np.random.choice([0,1], (expts, n), p=(1-p, p))\n",
        "  return sum(max(d.keys()) >= k for d in map(count_run, xxs))/expts"
      ],
      "metadata": {
        "id": "a8PnAhTrghpJ"
      },
      "execution_count": null,
      "outputs": []
    },
    {
      "cell_type": "code",
      "source": [
        "run_prob(expts=100000, n=100, k=5, p=0.5)"
      ],
      "metadata": {
        "colab": {
          "base_uri": "https://localhost:8080/"
        },
        "id": "zdMnTcQqmg6M",
        "outputId": "b72c39fa-5878-4a60-9373-a0ae169bb193"
      },
      "execution_count": null,
      "outputs": [
        {
          "output_type": "execute_result",
          "data": {
            "text/plain": [
              "0.8106"
            ]
          },
          "metadata": {},
          "execution_count": 79
        }
      ]
    },
    {
      "cell_type": "code",
      "source": [
        "run_prob(expts=100000, n=100, k=7, p=0.7)"
      ],
      "metadata": {
        "colab": {
          "base_uri": "https://localhost:8080/"
        },
        "id": "cDeK28_rmy8H",
        "outputId": "1c438ed4-52bb-41dc-d150-05ec4c9fc20c"
      },
      "execution_count": null,
      "outputs": [
        {
          "output_type": "execute_result",
          "data": {
            "text/plain": [
              "0.94971"
            ]
          },
          "metadata": {},
          "execution_count": 80
        }
      ]
    }
  ]
}